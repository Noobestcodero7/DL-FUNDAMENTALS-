{
 "cells": [
  {
   "cell_type": "code",
   "execution_count": null,
   "id": "84920b88",
   "metadata": {},
   "outputs": [],
   "source": [
    "#L1Regularization with Keras"
   ]
  },
  {
   "cell_type": "code",
   "execution_count": 2,
   "id": "b95c1637",
   "metadata": {},
   "outputs": [],
   "source": [
    "#import libraries\n",
    "import numpy as np\n",
    "import pandas as pd \n",
    "import matplotlib.pyplot as plt\n",
    "import seaborn as sns\n",
    "%matplotlib inline "
   ]
  },
  {
   "cell_type": "code",
   "execution_count": 3,
   "id": "b14f3849",
   "metadata": {},
   "outputs": [],
   "source": [
    "from sklearn.model_selection import train_test_split\n",
    "from sklearn.preprocessing import StandardScaler"
   ]
  },
  {
   "cell_type": "code",
   "execution_count": 4,
   "id": "e73d45f0",
   "metadata": {},
   "outputs": [],
   "source": [
    "from tensorflow.keras.layers import Activation, Dense\n",
    "from tensorflow.keras.models import Sequential\n",
    "from tensorflow.keras.optimizers import Adam"
   ]
  },
  {
   "cell_type": "code",
   "execution_count": 5,
   "id": "bd4f3811",
   "metadata": {},
   "outputs": [],
   "source": [
    "import warnings\n",
    "warnings.filterwarnings('ignore')"
   ]
  },
  {
   "cell_type": "code",
   "execution_count": 6,
   "id": "def0921d",
   "metadata": {},
   "outputs": [],
   "source": [
    "#load dataset\n",
    "data_url = \"http://lib.stat.cmu.edu/datasets/boston\"\n",
    "raw_df = pd.read_csv(data_url,sep=r\"\\s+\",skiprows=22, header=None )\n",
    "data = np.hstack([raw_df.values[::2,:],raw_df.values[1::2,:2]])\n",
    "target = raw_df.values[1::2,2].reshape(-1,1)"
   ]
  },
  {
   "cell_type": "code",
   "execution_count": 7,
   "id": "2763bc22",
   "metadata": {},
   "outputs": [],
   "source": [
    "#Create X and y\n",
    "X = pd.DataFrame(data)\n",
    "y = target"
   ]
  },
  {
   "cell_type": "code",
   "execution_count": 8,
   "id": "e863c842",
   "metadata": {},
   "outputs": [],
   "source": [
    "#Split data into training and test set\n",
    "X_train,X_test,y_train,y_test = train_test_split(X,y)"
   ]
  },
  {
   "cell_type": "code",
   "execution_count": 10,
   "id": "9ffa42cf",
   "metadata": {},
   "outputs": [],
   "source": [
    "#Standardize the features\n",
    "scalar = StandardScaler()\n",
    "scalar.fit(X_train)\n",
    "X_train = scalar.fit_transform(X_train)\n",
    "X_test = scalar.transform(X_test)"
   ]
  },
  {
   "cell_type": "code",
   "execution_count": 11,
   "id": "eb657554",
   "metadata": {},
   "outputs": [],
   "source": [
    "#Import library for L1 regularization\n",
    "from tensorflow import keras"
   ]
  },
  {
   "cell_type": "code",
   "execution_count": 14,
   "id": "29df5a9b",
   "metadata": {},
   "outputs": [],
   "source": [
    "#Define ANN with L1 regularization\n",
    "model_l1=Sequential()\n",
    "model_l1.add(Dense(128,activation='relu',input_shape=(13,),\n",
    "                   kernel_regularizer=keras.regularizers.l1(0.01)))\n",
    "model_l1.add(Dense(64,activation='relu',kernel_regularizer=keras.regularizers.l1(0.01)))\n",
    "model_l1.add(Dense(64,activation='relu',kernel_regularizer=keras.regularizers.l1(0.01)))\n",
    "model_l1.add(Dense(32,activation='relu',kernel_regularizer=keras.regularizers.l1(0.01)))\n",
    "model_l1.add(Dense(1))"
   ]
  },
  {
   "cell_type": "code",
   "execution_count": 15,
   "id": "517788b5",
   "metadata": {},
   "outputs": [],
   "source": [
    "#Compile the model\n",
    "model_l1.compile(loss='mse',\n",
    "                 optimizer=Adam(learning_rate=0.01),\n",
    "                 metrics=['mae'])"
   ]
  },
  {
   "cell_type": "code",
   "execution_count": 16,
   "id": "6fd61093",
   "metadata": {},
   "outputs": [],
   "source": [
    "history_l1=model_l1.fit(X_train,y_train,\n",
    "                        batch_size=64,\n",
    "                        epochs=1000,\n",
    "                        validation_split=0.2,\n",
    "                        verbose=0)"
   ]
  },
  {
   "cell_type": "code",
   "execution_count": 18,
   "id": "0f1b19fa",
   "metadata": {},
   "outputs": [
    {
     "name": "stdout",
     "output_type": "stream",
     "text": [
      "\u001b[1m12/12\u001b[0m \u001b[32m━━━━━━━━━━━━━━━━━━━━\u001b[0m\u001b[37m\u001b[0m \u001b[1m0s\u001b[0m 5ms/step - loss: 3.8154 - mae: 1.1022 \n",
      "\u001b[1m4/4\u001b[0m \u001b[32m━━━━━━━━━━━━━━━━━━━━\u001b[0m\u001b[37m\u001b[0m \u001b[1m0s\u001b[0m 10ms/step - loss: 16.0173 - mae: 2.8514\n",
      "Train loss: 6.311\n",
      "Test loss : 16.624\n",
      "Train mae : 1.371\n",
      "Test mae  : 2.894\n"
     ]
    }
   ],
   "source": [
    "train_loss_l1, train_mae_l1 = model_l1.evaluate(X_train, y_train)\n",
    "test_loss_l1, test_mae_l1 = model_l1.evaluate(X_test, y_test)\n",
    "\n",
    "print(f\"Train loss: {train_loss_l1:.3f}\")\n",
    "print(f\"Test loss : {test_loss_l1:.3f}\")\n",
    "print(f\"Train mae : {train_mae_l1:.3f}\")\n",
    "print(f\"Test mae  : {test_mae_l1:.3f}\")"
   ]
  },
  {
   "cell_type": "code",
   "execution_count": null,
   "id": "b1654c18",
   "metadata": {},
   "outputs": [],
   "source": []
  }
 ],
 "metadata": {
  "kernelspec": {
   "display_name": "keras_env",
   "language": "python",
   "name": "python3"
  },
  "language_info": {
   "codemirror_mode": {
    "name": "ipython",
    "version": 3
   },
   "file_extension": ".py",
   "mimetype": "text/x-python",
   "name": "python",
   "nbconvert_exporter": "python",
   "pygments_lexer": "ipython3",
   "version": "3.10.18"
  }
 },
 "nbformat": 4,
 "nbformat_minor": 5
}
