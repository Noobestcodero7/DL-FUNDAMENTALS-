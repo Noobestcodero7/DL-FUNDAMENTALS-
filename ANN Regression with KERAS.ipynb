{
 "cells": [
  {
   "cell_type": "code",
   "execution_count": 2,
   "id": "0b387941",
   "metadata": {},
   "outputs": [],
   "source": [
    "#ANN regression with Keras"
   ]
  },
  {
   "cell_type": "code",
   "execution_count": 3,
   "id": "06c5df07",
   "metadata": {},
   "outputs": [],
   "source": [
    "#import libraries\n",
    "import numpy as np\n",
    "import pandas as pd \n",
    "import matplotlib.pyplot as plt\n",
    "import seaborn as sns\n",
    "%matplotlib inline "
   ]
  },
  {
   "cell_type": "code",
   "execution_count": 4,
   "id": "862f806f",
   "metadata": {},
   "outputs": [],
   "source": [
    "from sklearn.model_selection import train_test_split\n",
    "from sklearn.preprocessing import StandardScaler"
   ]
  },
  {
   "cell_type": "code",
   "execution_count": 5,
   "id": "2816e6e9",
   "metadata": {},
   "outputs": [],
   "source": [
    "from tensorflow.keras.layers import Activation, Dense\n",
    "from tensorflow.keras.models import Sequential\n",
    "from tensorflow.keras.optimizers import Adam"
   ]
  },
  {
   "cell_type": "code",
   "execution_count": null,
   "id": "6f183013",
   "metadata": {},
   "outputs": [],
   "source": [
    "import warnings\n",
    "warnings.filterwarnings('ignore')"
   ]
  },
  {
   "cell_type": "code",
   "execution_count": 7,
   "id": "964b2251",
   "metadata": {},
   "outputs": [],
   "source": [
    "#load dataset\n",
    "data_url = \"http://lib.stat.cmu.edu/datasets/boston\"\n",
    "raw_df = pd.read_csv(data_url,sep=r\"\\s+\",skiprows=22, header=None )\n",
    "data = np.hstack([raw_df.values[::2,:],raw_df.values[1::2,:2]])\n",
    "target = raw_df.values[1::2,2].reshape(-1,1)"
   ]
  },
  {
   "cell_type": "code",
   "execution_count": 8,
   "id": "7358fcec",
   "metadata": {},
   "outputs": [],
   "source": [
    "#Create X and y\n",
    "X = pd.DataFrame(data)\n",
    "y = target.ravel()\n"
   ]
  },
  {
   "cell_type": "code",
   "execution_count": 9,
   "id": "c07163b0",
   "metadata": {},
   "outputs": [],
   "source": [
    "#Split data into training and test set\n",
    "X_train,X_test,y_train,y_test = train_test_split(X,y,random_state=42)"
   ]
  },
  {
   "cell_type": "code",
   "execution_count": 10,
   "metadata": {},
   "outputs": [],
   "source": [
    "#Standardize the features\n",
    "scalar = StandardScaler()\n",
    "X_train = scalar.fit_transform(X_train)\n",
    "X_test = scalar.transform(X_test)"
   ]
  },
  {
   "cell_type": "code",
   "execution_count": 11,
   "id": "eb37dc38",
   "metadata": {},
   "outputs": [],
   "source": [
    "#Define ANN\n",
    "model = Sequential()\n",
    "model.add(Dense(128, activation='relu',input_shape=(13,)))\n",
    "model.add(Dense(64,activation='relu'))\n",
    "model.add(Dense(64,activation='relu'))\n",
    "model.add(Dense(32,activation='relu'))\n",
    "model.add(Dense(1))"
   ]
  },
  {
   "cell_type": "code",
   "execution_count": 12,
   "id": "2904b6fd",
   "metadata": {},
   "outputs": [
    {
     "data": {
      "text/html": [
       "<pre style=\"white-space:pre;overflow-x:auto;line-height:normal;font-family:Menlo,'DejaVu Sans Mono',consolas,'Courier New',monospace\"><span style=\"font-weight: bold\">Model: \"sequential\"</span>\n",
       "</pre>\n"
      ],
      "text/plain": [
       "\u001b[1mModel: \"sequential\"\u001b[0m\n"
      ]
     },
     "metadata": {},
     "output_type": "display_data"
    },
    {
     "data": {
      "text/html": [
       "<pre style=\"white-space:pre;overflow-x:auto;line-height:normal;font-family:Menlo,'DejaVu Sans Mono',consolas,'Courier New',monospace\">┏━━━━━━━━━━━━━━━━━━━━━━━━━━━━━━━━━┳━━━━━━━━━━━━━━━━━━━━━━━━┳━━━━━━━━━━━━━━━┓\n",
       "┃<span style=\"font-weight: bold\"> Layer (type)                    </span>┃<span style=\"font-weight: bold\"> Output Shape           </span>┃<span style=\"font-weight: bold\">       Param # </span>┃\n",
       "┡━━━━━━━━━━━━━━━━━━━━━━━━━━━━━━━━━╇━━━━━━━━━━━━━━━━━━━━━━━━╇━━━━━━━━━━━━━━━┩\n",
       "│ dense (<span style=\"color: #0087ff; text-decoration-color: #0087ff\">Dense</span>)                   │ (<span style=\"color: #00d7ff; text-decoration-color: #00d7ff\">None</span>, <span style=\"color: #00af00; text-decoration-color: #00af00\">128</span>)            │         <span style=\"color: #00af00; text-decoration-color: #00af00\">1,792</span> │\n",
       "├─────────────────────────────────┼────────────────────────┼───────────────┤\n",
       "│ dense_1 (<span style=\"color: #0087ff; text-decoration-color: #0087ff\">Dense</span>)                 │ (<span style=\"color: #00d7ff; text-decoration-color: #00d7ff\">None</span>, <span style=\"color: #00af00; text-decoration-color: #00af00\">64</span>)             │         <span style=\"color: #00af00; text-decoration-color: #00af00\">8,256</span> │\n",
       "├─────────────────────────────────┼────────────────────────┼───────────────┤\n",
       "│ dense_2 (<span style=\"color: #0087ff; text-decoration-color: #0087ff\">Dense</span>)                 │ (<span style=\"color: #00d7ff; text-decoration-color: #00d7ff\">None</span>, <span style=\"color: #00af00; text-decoration-color: #00af00\">64</span>)             │         <span style=\"color: #00af00; text-decoration-color: #00af00\">4,160</span> │\n",
       "├─────────────────────────────────┼────────────────────────┼───────────────┤\n",
       "│ dense_3 (<span style=\"color: #0087ff; text-decoration-color: #0087ff\">Dense</span>)                 │ (<span style=\"color: #00d7ff; text-decoration-color: #00d7ff\">None</span>, <span style=\"color: #00af00; text-decoration-color: #00af00\">32</span>)             │         <span style=\"color: #00af00; text-decoration-color: #00af00\">2,080</span> │\n",
       "├─────────────────────────────────┼────────────────────────┼───────────────┤\n",
       "│ dense_4 (<span style=\"color: #0087ff; text-decoration-color: #0087ff\">Dense</span>)                 │ (<span style=\"color: #00d7ff; text-decoration-color: #00d7ff\">None</span>, <span style=\"color: #00af00; text-decoration-color: #00af00\">1</span>)              │            <span style=\"color: #00af00; text-decoration-color: #00af00\">33</span> │\n",
       "└─────────────────────────────────┴────────────────────────┴───────────────┘\n",
       "</pre>\n"
      ],
      "text/plain": [
       "┏━━━━━━━━━━━━━━━━━━━━━━━━━━━━━━━━━┳━━━━━━━━━━━━━━━━━━━━━━━━┳━━━━━━━━━━━━━━━┓\n",
       "┃\u001b[1m \u001b[0m\u001b[1mLayer (type)                   \u001b[0m\u001b[1m \u001b[0m┃\u001b[1m \u001b[0m\u001b[1mOutput Shape          \u001b[0m\u001b[1m \u001b[0m┃\u001b[1m \u001b[0m\u001b[1m      Param #\u001b[0m\u001b[1m \u001b[0m┃\n",
       "┡━━━━━━━━━━━━━━━━━━━━━━━━━━━━━━━━━╇━━━━━━━━━━━━━━━━━━━━━━━━╇━━━━━━━━━━━━━━━┩\n",
       "│ dense (\u001b[38;5;33mDense\u001b[0m)                   │ (\u001b[38;5;45mNone\u001b[0m, \u001b[38;5;34m128\u001b[0m)            │         \u001b[38;5;34m1,792\u001b[0m │\n",
       "├─────────────────────────────────┼────────────────────────┼───────────────┤\n",
       "│ dense_1 (\u001b[38;5;33mDense\u001b[0m)                 │ (\u001b[38;5;45mNone\u001b[0m, \u001b[38;5;34m64\u001b[0m)             │         \u001b[38;5;34m8,256\u001b[0m │\n",
       "├─────────────────────────────────┼────────────────────────┼───────────────┤\n",
       "│ dense_2 (\u001b[38;5;33mDense\u001b[0m)                 │ (\u001b[38;5;45mNone\u001b[0m, \u001b[38;5;34m64\u001b[0m)             │         \u001b[38;5;34m4,160\u001b[0m │\n",
       "├─────────────────────────────────┼────────────────────────┼───────────────┤\n",
       "│ dense_3 (\u001b[38;5;33mDense\u001b[0m)                 │ (\u001b[38;5;45mNone\u001b[0m, \u001b[38;5;34m32\u001b[0m)             │         \u001b[38;5;34m2,080\u001b[0m │\n",
       "├─────────────────────────────────┼────────────────────────┼───────────────┤\n",
       "│ dense_4 (\u001b[38;5;33mDense\u001b[0m)                 │ (\u001b[38;5;45mNone\u001b[0m, \u001b[38;5;34m1\u001b[0m)              │            \u001b[38;5;34m33\u001b[0m │\n",
       "└─────────────────────────────────┴────────────────────────┴───────────────┘\n"
      ]
     },
     "metadata": {},
     "output_type": "display_data"
    },
    {
     "data": {
      "text/html": [
       "<pre style=\"white-space:pre;overflow-x:auto;line-height:normal;font-family:Menlo,'DejaVu Sans Mono',consolas,'Courier New',monospace\"><span style=\"font-weight: bold\"> Total params: </span><span style=\"color: #00af00; text-decoration-color: #00af00\">16,321</span> (63.75 KB)\n",
       "</pre>\n"
      ],
      "text/plain": [
       "\u001b[1m Total params: \u001b[0m\u001b[38;5;34m16,321\u001b[0m (63.75 KB)\n"
      ]
     },
     "metadata": {},
     "output_type": "display_data"
    },
    {
     "data": {
      "text/html": [
       "<pre style=\"white-space:pre;overflow-x:auto;line-height:normal;font-family:Menlo,'DejaVu Sans Mono',consolas,'Courier New',monospace\"><span style=\"font-weight: bold\"> Trainable params: </span><span style=\"color: #00af00; text-decoration-color: #00af00\">16,321</span> (63.75 KB)\n",
       "</pre>\n"
      ],
      "text/plain": [
       "\u001b[1m Trainable params: \u001b[0m\u001b[38;5;34m16,321\u001b[0m (63.75 KB)\n"
      ]
     },
     "metadata": {},
     "output_type": "display_data"
    },
    {
     "data": {
      "text/html": [
       "<pre style=\"white-space:pre;overflow-x:auto;line-height:normal;font-family:Menlo,'DejaVu Sans Mono',consolas,'Courier New',monospace\"><span style=\"font-weight: bold\"> Non-trainable params: </span><span style=\"color: #00af00; text-decoration-color: #00af00\">0</span> (0.00 B)\n",
       "</pre>\n"
      ],
      "text/plain": [
       "\u001b[1m Non-trainable params: \u001b[0m\u001b[38;5;34m0\u001b[0m (0.00 B)\n"
      ]
     },
     "metadata": {},
     "output_type": "display_data"
    }
   ],
   "source": [
    "#Show the model summary\n",
    "model.summary()"
   ]
  },
  {
   "cell_type": "code",
   "execution_count": 13,
   "id": "cafdda3d",
   "metadata": {},
   "outputs": [],
   "source": [
    "#Compile the model\n",
    "model.compile(loss='mse', optimizer=Adam(learning_rate=0.01),metrics=['mae'])"
   ]
  },
  {
   "cell_type": "code",
   "execution_count": 14,
   "id": "ae505dc0",
   "metadata": {},
   "outputs": [],
   "source": [
    "#Fit the model\n",
    "history= model.fit(X_train,y_train,\n",
    "                   batch_size = 64,\n",
    "                   epochs=1000,\n",
    "                   validation_split=0.2,\n",
    "                   verbose=0)"
   ]
  },
  {
   "cell_type": "code",
   "execution_count": 15,
   "id": "ed297b48",
   "metadata": {},
   "outputs": [
    {
     "data": {
      "image/png": "[encoded data removed]",
      "text/plain": [
       "<Figure size 640x480 with 1 Axes>"
      ]
     },
     "metadata": {},
     "output_type": "display_data"
    }
   ],
   "source": [
    "#Plot the learning history\n",
    "plt.plot(history.history['mae'],\n",
    "         label='train mae')\n",
    "plt.plot(history.history['val_mae'],\n",
    "         label='val mae')\n",
    "plt.xlabel('epoch')\n",
    "plt.ylabel('mae')\n",
    "plt.legend(loc='best')\n",
    "plt.ylim([0,20])\n",
    "plt.show()"
   ]
  },
  {
   "cell_type": "code",
   "execution_count": 16,
   "id": "1d3430f0",
   "metadata": {},
   "outputs": [
    {
     "name": "stdout",
     "output_type": "stream",
     "text": [
      "Train loss: 2.032\n",
      "Test loss : 13.047\n",
      "Train MAE : 0.622\n",
      "Test MAE  : 2.350\n"
     ]
    }
   ],
   "source": [
    "train_loss, train_mae = model.evaluate(X_train, y_train, verbose=0)\n",
    "test_loss, test_mae = model.evaluate(X_test, y_test, verbose=0)\n",
    "\n",
    "print(f\"Train loss: {train_loss:.3f}\")\n",
    "print(f\"Test loss : {test_loss:.3f}\")\n",
    "print(f\"Train MAE : {train_mae:.3f}\")\n",
    "print(f\"Test MAE  : {test_mae:.3f}\")"
   ]
  },
  {
   "cell_type": "code",
   "execution_count": 17,
   "id": "a92511f8",
   "metadata": {},
   "outputs": [
    {
     "name": "stdout",
     "output_type": "stream",
     "text": [
      "\u001b[1m4/4\u001b[0m \u001b[32m━━━━━━━━━━━━━━━━━━━━\u001b[0m\u001b[37m\u001b[0m \u001b[1m0s\u001b[0m 18ms/step\n",
      "[[25.967026 ]\n",
      " [35.71601  ]\n",
      " [16.218088 ]\n",
      " [24.407944 ]\n",
      " [18.44619  ]\n",
      " [20.42035  ]\n",
      " [19.3193   ]\n",
      " [14.273898 ]\n",
      " [22.97294  ]\n",
      " [18.521914 ]\n",
      " [23.40588  ]\n",
      " [24.959417 ]\n",
      " [ 9.550946 ]\n",
      " [21.310785 ]\n",
      " [18.08112  ]\n",
      " [23.724266 ]\n",
      " [20.205223 ]\n",
      " [12.030572 ]\n",
      " [48.52564  ]\n",
      " [ 9.822514 ]\n",
      " [23.963703 ]\n",
      " [26.16881  ]\n",
      " [11.8806715]\n",
      " [25.920862 ]\n",
      " [18.290688 ]\n",
      " [17.189842 ]\n",
      " [20.204815 ]\n",
      " [11.820768 ]\n",
      " [21.646557 ]\n",
      " [17.898643 ]\n",
      " [25.217127 ]\n",
      " [23.91938  ]\n",
      " [17.607605 ]\n",
      " [27.073723 ]\n",
      " [15.571578 ]\n",
      " [16.699303 ]\n",
      " [31.540825 ]\n",
      " [18.868555 ]\n",
      " [22.848305 ]\n",
      " [25.214392 ]\n",
      " [17.674667 ]\n",
      " [31.049793 ]\n",
      " [53.720608 ]\n",
      " [19.574112 ]\n",
      " [24.034748 ]\n",
      " [11.619267 ]\n",
      " [15.835678 ]\n",
      " [26.034962 ]\n",
      " [19.310663 ]\n",
      " [24.202091 ]\n",
      " [24.79144  ]\n",
      " [33.52074  ]\n",
      " [15.357504 ]\n",
      " [28.891285 ]\n",
      " [43.869755 ]\n",
      " [22.491909 ]\n",
      " [11.644283 ]\n",
      " [33.46877  ]\n",
      " [24.627213 ]\n",
      " [17.440632 ]\n",
      " [26.230843 ]\n",
      " [35.067154 ]\n",
      " [31.283676 ]\n",
      " [15.104093 ]\n",
      " [22.957666 ]\n",
      " [21.601137 ]\n",
      " [11.099543 ]\n",
      " [24.658266 ]\n",
      " [27.837158 ]\n",
      " [13.926927 ]\n",
      " [22.4082   ]\n",
      " [24.82506  ]\n",
      " [ 8.954584 ]\n",
      " [20.07301  ]\n",
      " [21.664898 ]\n",
      " [ 5.8426437]\n",
      " [20.215261 ]\n",
      " [50.812702 ]\n",
      " [11.110145 ]\n",
      " [10.557638 ]\n",
      " [20.637806 ]\n",
      " [ 9.511196 ]\n",
      " [19.032797 ]\n",
      " [12.95639  ]\n",
      " [20.88422  ]\n",
      " [29.990353 ]\n",
      " [13.258734 ]\n",
      " [23.861328 ]\n",
      " [22.696615 ]\n",
      " [18.329016 ]\n",
      " [22.633856 ]\n",
      " [ 8.219227 ]\n",
      " [19.54742  ]\n",
      " [23.09945  ]\n",
      " [37.696087 ]\n",
      " [21.278236 ]\n",
      " [30.005463 ]\n",
      " [ 7.815276 ]\n",
      " [11.271025 ]\n",
      " [12.172392 ]\n",
      " [23.117363 ]\n",
      " [23.07959  ]\n",
      " [11.87892  ]\n",
      " [19.179867 ]\n",
      " [19.411018 ]\n",
      " [11.075483 ]\n",
      " [17.95038  ]\n",
      " [24.342472 ]\n",
      " [20.813911 ]\n",
      " [25.199903 ]\n",
      " [ 7.942876 ]\n",
      " [13.277649 ]\n",
      " [21.834593 ]\n",
      " [28.783726 ]\n",
      " [33.702698 ]\n",
      " [12.290923 ]\n",
      " [45.44554  ]\n",
      " [15.303879 ]\n",
      " [20.291595 ]\n",
      " [26.761576 ]\n",
      " [18.113356 ]\n",
      " [24.466707 ]\n",
      " [10.233018 ]\n",
      " [17.48695  ]\n",
      " [24.652744 ]\n",
      " [20.184921 ]\n",
      " [25.472525 ]]\n"
     ]
    }
   ],
   "source": [
    "#Make prediction\n",
    "y_pred = model.predict(X_test)\n",
    "print(y_pred)"
   ]
  }
 ],
 "metadata": {
  "kernelspec": {
   "display_name": "keras_env",
   "language": "python",
   "name": "python3"
  },
  "language_info": {
   "codemirror_mode": {
    "name": "ipython",
    "version": 3
   },
   "file_extension": ".py",
   "mimetype": "text/x-python",
   "name": "python",
   "nbconvert_exporter": "python",
   "pygments_lexer": "ipython3",
   "version": "3.10.18"
  }
 },
 "nbformat": 4,
 "nbformat_minor": 5
}
